{
 "cells": [
  {
   "cell_type": "code",
   "execution_count": 100,
   "metadata": {},
   "outputs": [
    {
     "name": "stderr",
     "output_type": "stream",
     "text": [
      "100%|██████████| 633/633 [00:00<00:00, 767.71it/s]\n",
      "100%|██████████| 633/633 [00:00<00:00, 700.53it/s]\n",
      "100%|██████████| 641/641 [00:00<00:00, 661.43it/s]\n",
      "100%|██████████| 641/641 [00:00<00:00, 698.85it/s]\n",
      "100%|██████████| 898/898 [00:01<00:00, 788.74it/s]\n",
      "100%|██████████| 898/898 [00:01<00:00, 748.08it/s]\n",
      "100%|██████████| 699/699 [00:01<00:00, 627.70it/s]\n",
      "100%|██████████| 699/699 [00:01<00:00, 650.81it/s]\n",
      "100%|██████████| 799/799 [00:01<00:00, 691.80it/s]\n",
      "100%|██████████| 799/799 [00:01<00:00, 708.60it/s]\n"
     ]
    }
   ],
   "source": [
    "import pandas as pd\n",
    "import numpy as np\n",
    "import os\n",
    "import cv2 \n",
    "from PIL import Image\n",
    "from tqdm import tqdm\n",
    "import warnings\n",
    "\n",
    "warnings.filterwarnings('ignore')\n",
    "\n",
    "\n",
    "\n",
    "def Dataset(flowerPath):\n",
    "    flowerSet=[]\n",
    "    for image in tqdm(os.listdir(flowerPath)): \n",
    "        path = os.path.join(flowerPath, image)\n",
    "        img = cv2.imread(path, cv2.IMREAD_GRAYSCALE) \n",
    "        img = cv2.resize(img, (Image_size, Image_size)).flatten()   \n",
    "        flowerSet.append(img)\n",
    "    return flowerSet        \n",
    "        \n",
    "testFlowerPaths={\n",
    "\"daisyPath\":\"../Image-Classifier-using-Logistic-Regression-/flower_photos/daisy\",\n",
    "\"rosesPath\":\"../Image-Classifier-using-Logistic-Regression-/flower_photos/roses\",\n",
    "\"dandelionPat\":\"../Image-Classifier-using-Logistic-Regression-/flower_photos/dandelion\",\n",
    "\"sunflowersPath\":\"../Image-Classifier-using-Logistic-Regression-/flower_photos/sunflowers\",\n",
    "\"tulipsPath\":\"../Image-Classifier-using-Logistic-Regression-/flower_photos/tulips\"}\n",
    "\n",
    "trainFlowerPaths={\n",
    "\"daisyPath\":\"../Image-Classifier-using-Logistic-Regression-/flower_photos/flower_photos/daisy\",\n",
    "\"rosesPath\":\"../Image-Classifier-using-Logistic-Regression-/flower_photos/flower_photos/roses\",\n",
    "\"dandelionPat\":\"../Image-Classifier-using-Logistic-Regression-/flower_photos/flower_photos/dandelion\",\n",
    "\"sunflowersPath\":\"../Image-Classifier-using-Logistic-Regression-/flower_photos/flower_photos/sunflowers\",\n",
    "\"tulipsPath\":\"../Image-Classifier-using-Logistic-Regression-/flower_photos/flower_photos/tulips\"}\n",
    "\n",
    "\n",
    "\n",
    "testFlower=[]\n",
    "trainFlower=[]\n",
    "\n",
    "\n",
    "Image_size=64\n",
    "\n",
    "Image.open(\"../Image-Classifier-using-Logistic-Regression-/flower_photos/daisy/5547758_eea9edfd54_n.jpg\")\n",
    "daisy\n",
    "\n",
    "for testFlowerPath,trainFlowerPath in zip(testFlowerPaths.values(),trainFlowerPaths.values()):\n",
    "    testFlower.append(Dataset(testFlowerPath))\n",
    "    trainFlower.append(Dataset(trainFlowerPath))\n",
    "    \n",
    "    \n",
    "    \n",
    "    \n"
   ]
  },
  {
   "cell_type": "code",
   "execution_count": 99,
   "metadata": {},
   "outputs": [
    {
     "name": "stdout",
     "output_type": "stream",
     "text": [
      "X shape:  (2871, 4096)\n",
      "Y shape:  (2871, 1)\n",
      "X shape:  (2871, 4096)\n",
      "Y shape:  (2871, 1)\n"
     ]
    }
   ],
   "source": [
    "XTest= np.concatenate((testFlower[0],testFlower[1],testFlower[2],testFlower[3]), axis=0)\n",
    "XTrain= np.concatenate((trainFlower[0],trainFlower[1],trainFlower[2],trainFlower[3]), axis=0)\n",
    "\n",
    "\n",
    "YTest= np.concatenate((np.full(len(testFlower[0]),0),\n",
    "                       np.full(len(testFlower[1]),1),\n",
    "                       np.full(len(testFlower[2]),2),\n",
    "                       np.full(len(testFlower[3]),3)) ,axis=0).reshape(XTest.shape[0],1)\n",
    "YTrain= np.concatenate((np.full(len(trainFlower[0]),0),\n",
    "                       np.full(len(trainFlower[1]),1),\n",
    "                       np.full(len(trainFlower[2]),2),\n",
    "                       np.full(len(trainFlower[3]),3)) ,axis=0).reshape(XTest.shape[0],1)\n",
    "\n",
    "\n",
    "\n",
    "number_of_train = XTrain.shape[0]\n",
    "print(\"X shape: \" , XTrain.shape)\n",
    "print(\"Y shape: \" , YTrain.shape)\n",
    "\n",
    "\n",
    "\n",
    "\n",
    "X_train_flatten = XTrain.reshape(number_of_train,XTrain.shape[1])\n",
    "Y_train_flatten = YTrain.reshape(number_of_train,YTrain.shape[1])\n",
    "XTrain=X_train_flatten.T\n",
    "YTrain=Y_train_flatten.T\n",
    "\n",
    "print(\"X shape: \" , X_train_flatten.shape)\n",
    "print(\"Y shape: \" , Y_train_flatten.shape)"
   ]
  },
  {
   "cell_type": "code",
   "execution_count": null,
   "metadata": {},
   "outputs": [],
   "source": [
    "from sklearn.linear_model import LogisticRegression\n",
    "from sklearn.model_selection import GridSearchCV\n",
    "grid={'C':[1000,1200,1400], 'tol': [0.00001]}\n",
    "logistic_regression=LogisticRegression(solver='newton-cg', multi_class='multinomial')\n",
    "log_reg_cv=GridSearchCV(logistic_regression,grid,cv=10)\n",
    "log_reg_cv.fit(XTrain.T,YTrain.T)\n",
    "\n",
    "\n",
    "\n",
    "\n"
   ]
  },
  {
   "cell_type": "code",
   "execution_count": null,
   "metadata": {},
   "outputs": [],
   "source": []
  }
 ],
 "metadata": {
  "kernelspec": {
   "display_name": "Python 3",
   "language": "python",
   "name": "python3"
  },
  "language_info": {
   "codemirror_mode": {
    "name": "ipython",
    "version": 3
   },
   "file_extension": ".py",
   "mimetype": "text/x-python",
   "name": "python",
   "nbconvert_exporter": "python",
   "pygments_lexer": "ipython3",
   "version": "3.7.4"
  }
 },
 "nbformat": 4,
 "nbformat_minor": 2
}
